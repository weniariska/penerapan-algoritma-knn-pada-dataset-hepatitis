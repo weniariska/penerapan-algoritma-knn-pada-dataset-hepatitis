{
  "nbformat": 4,
  "nbformat_minor": 0,
  "metadata": {
    "colab": {
      "name": "C_1910511026_WeniAriska.ipynb",
      "provenance": [],
      "collapsed_sections": []
    },
    "kernelspec": {
      "name": "python3",
      "display_name": "Python 3"
    },
    "language_info": {
      "name": "python"
    }
  },
  "cells": [
    {
      "cell_type": "code",
      "metadata": {
        "colab": {
          "base_uri": "https://localhost:8080/",
          "height": 241
        },
        "id": "bT-rYYwsCfI5",
        "outputId": "00c497fa-3bc5-4208-d252-8f4cc92d93dc"
      },
      "source": [
        "import pandas as pd\n",
        "csv_path = \"https://archive.ics.uci.edu/ml/machine-learning-databases/hepatitis/hepatitis.data\"\n",
        "\n",
        "headers = ['Class','AGE','SEX','STEROID','ANTIVIRALS','FATIGUE',\n",
        "           'MALAISE','ANOREXIA','LIVER BIG','LIVER FIRM','SPLEEN PALPABLE',\n",
        "           'SPIDERS','ASCITES','VARICES','BILIRUBIN','ALK PHOSPHATE','SGOT',\n",
        "           'ALBUMIN','PROTIME','HISTOLOGY']\n",
        "\n",
        "df = pd.read_csv(csv_path, names = headers)\n",
        "\n",
        "df.head()"
      ],
      "execution_count": 19,
      "outputs": [
        {
          "output_type": "execute_result",
          "data": {
            "text/html": [
              "<div>\n",
              "<style scoped>\n",
              "    .dataframe tbody tr th:only-of-type {\n",
              "        vertical-align: middle;\n",
              "    }\n",
              "\n",
              "    .dataframe tbody tr th {\n",
              "        vertical-align: top;\n",
              "    }\n",
              "\n",
              "    .dataframe thead th {\n",
              "        text-align: right;\n",
              "    }\n",
              "</style>\n",
              "<table border=\"1\" class=\"dataframe\">\n",
              "  <thead>\n",
              "    <tr style=\"text-align: right;\">\n",
              "      <th></th>\n",
              "      <th>Class</th>\n",
              "      <th>AGE</th>\n",
              "      <th>SEX</th>\n",
              "      <th>STEROID</th>\n",
              "      <th>ANTIVIRALS</th>\n",
              "      <th>FATIGUE</th>\n",
              "      <th>MALAISE</th>\n",
              "      <th>ANOREXIA</th>\n",
              "      <th>LIVER BIG</th>\n",
              "      <th>LIVER FIRM</th>\n",
              "      <th>SPLEEN PALPABLE</th>\n",
              "      <th>SPIDERS</th>\n",
              "      <th>ASCITES</th>\n",
              "      <th>VARICES</th>\n",
              "      <th>BILIRUBIN</th>\n",
              "      <th>ALK PHOSPHATE</th>\n",
              "      <th>SGOT</th>\n",
              "      <th>ALBUMIN</th>\n",
              "      <th>PROTIME</th>\n",
              "      <th>HISTOLOGY</th>\n",
              "    </tr>\n",
              "  </thead>\n",
              "  <tbody>\n",
              "    <tr>\n",
              "      <th>0</th>\n",
              "      <td>2</td>\n",
              "      <td>30</td>\n",
              "      <td>2</td>\n",
              "      <td>1</td>\n",
              "      <td>2</td>\n",
              "      <td>2</td>\n",
              "      <td>2</td>\n",
              "      <td>2</td>\n",
              "      <td>1</td>\n",
              "      <td>2</td>\n",
              "      <td>2</td>\n",
              "      <td>2</td>\n",
              "      <td>2</td>\n",
              "      <td>2</td>\n",
              "      <td>1.00</td>\n",
              "      <td>85</td>\n",
              "      <td>18</td>\n",
              "      <td>4.0</td>\n",
              "      <td>?</td>\n",
              "      <td>1</td>\n",
              "    </tr>\n",
              "    <tr>\n",
              "      <th>1</th>\n",
              "      <td>2</td>\n",
              "      <td>50</td>\n",
              "      <td>1</td>\n",
              "      <td>1</td>\n",
              "      <td>2</td>\n",
              "      <td>1</td>\n",
              "      <td>2</td>\n",
              "      <td>2</td>\n",
              "      <td>1</td>\n",
              "      <td>2</td>\n",
              "      <td>2</td>\n",
              "      <td>2</td>\n",
              "      <td>2</td>\n",
              "      <td>2</td>\n",
              "      <td>0.90</td>\n",
              "      <td>135</td>\n",
              "      <td>42</td>\n",
              "      <td>3.5</td>\n",
              "      <td>?</td>\n",
              "      <td>1</td>\n",
              "    </tr>\n",
              "    <tr>\n",
              "      <th>2</th>\n",
              "      <td>2</td>\n",
              "      <td>78</td>\n",
              "      <td>1</td>\n",
              "      <td>2</td>\n",
              "      <td>2</td>\n",
              "      <td>1</td>\n",
              "      <td>2</td>\n",
              "      <td>2</td>\n",
              "      <td>2</td>\n",
              "      <td>2</td>\n",
              "      <td>2</td>\n",
              "      <td>2</td>\n",
              "      <td>2</td>\n",
              "      <td>2</td>\n",
              "      <td>0.70</td>\n",
              "      <td>96</td>\n",
              "      <td>32</td>\n",
              "      <td>4.0</td>\n",
              "      <td>?</td>\n",
              "      <td>1</td>\n",
              "    </tr>\n",
              "    <tr>\n",
              "      <th>3</th>\n",
              "      <td>2</td>\n",
              "      <td>31</td>\n",
              "      <td>1</td>\n",
              "      <td>?</td>\n",
              "      <td>1</td>\n",
              "      <td>2</td>\n",
              "      <td>2</td>\n",
              "      <td>2</td>\n",
              "      <td>2</td>\n",
              "      <td>2</td>\n",
              "      <td>2</td>\n",
              "      <td>2</td>\n",
              "      <td>2</td>\n",
              "      <td>2</td>\n",
              "      <td>0.70</td>\n",
              "      <td>46</td>\n",
              "      <td>52</td>\n",
              "      <td>4.0</td>\n",
              "      <td>80</td>\n",
              "      <td>1</td>\n",
              "    </tr>\n",
              "    <tr>\n",
              "      <th>4</th>\n",
              "      <td>2</td>\n",
              "      <td>34</td>\n",
              "      <td>1</td>\n",
              "      <td>2</td>\n",
              "      <td>2</td>\n",
              "      <td>2</td>\n",
              "      <td>2</td>\n",
              "      <td>2</td>\n",
              "      <td>2</td>\n",
              "      <td>2</td>\n",
              "      <td>2</td>\n",
              "      <td>2</td>\n",
              "      <td>2</td>\n",
              "      <td>2</td>\n",
              "      <td>1.00</td>\n",
              "      <td>?</td>\n",
              "      <td>200</td>\n",
              "      <td>4.0</td>\n",
              "      <td>?</td>\n",
              "      <td>1</td>\n",
              "    </tr>\n",
              "  </tbody>\n",
              "</table>\n",
              "</div>"
            ],
            "text/plain": [
              "   Class  AGE  SEX STEROID  ...  SGOT ALBUMIN PROTIME HISTOLOGY\n",
              "0      2   30    2       1  ...    18     4.0       ?         1\n",
              "1      2   50    1       1  ...    42     3.5       ?         1\n",
              "2      2   78    1       2  ...    32     4.0       ?         1\n",
              "3      2   31    1       ?  ...    52     4.0      80         1\n",
              "4      2   34    1       2  ...   200     4.0       ?         1\n",
              "\n",
              "[5 rows x 20 columns]"
            ]
          },
          "metadata": {
            "tags": []
          },
          "execution_count": 19
        }
      ]
    },
    {
      "cell_type": "code",
      "metadata": {
        "colab": {
          "base_uri": "https://localhost:8080/",
          "height": 419
        },
        "id": "sEh_4_aXCwWT",
        "outputId": "17e66e2a-278b-4265-a2fa-e06505880d6e"
      },
      "source": [
        "df[['STEROID','ANTIVIRALS', 'MALAISE']]"
      ],
      "execution_count": 20,
      "outputs": [
        {
          "output_type": "execute_result",
          "data": {
            "text/html": [
              "<div>\n",
              "<style scoped>\n",
              "    .dataframe tbody tr th:only-of-type {\n",
              "        vertical-align: middle;\n",
              "    }\n",
              "\n",
              "    .dataframe tbody tr th {\n",
              "        vertical-align: top;\n",
              "    }\n",
              "\n",
              "    .dataframe thead th {\n",
              "        text-align: right;\n",
              "    }\n",
              "</style>\n",
              "<table border=\"1\" class=\"dataframe\">\n",
              "  <thead>\n",
              "    <tr style=\"text-align: right;\">\n",
              "      <th></th>\n",
              "      <th>STEROID</th>\n",
              "      <th>ANTIVIRALS</th>\n",
              "      <th>MALAISE</th>\n",
              "    </tr>\n",
              "  </thead>\n",
              "  <tbody>\n",
              "    <tr>\n",
              "      <th>0</th>\n",
              "      <td>1</td>\n",
              "      <td>2</td>\n",
              "      <td>2</td>\n",
              "    </tr>\n",
              "    <tr>\n",
              "      <th>1</th>\n",
              "      <td>1</td>\n",
              "      <td>2</td>\n",
              "      <td>2</td>\n",
              "    </tr>\n",
              "    <tr>\n",
              "      <th>2</th>\n",
              "      <td>2</td>\n",
              "      <td>2</td>\n",
              "      <td>2</td>\n",
              "    </tr>\n",
              "    <tr>\n",
              "      <th>3</th>\n",
              "      <td>?</td>\n",
              "      <td>1</td>\n",
              "      <td>2</td>\n",
              "    </tr>\n",
              "    <tr>\n",
              "      <th>4</th>\n",
              "      <td>2</td>\n",
              "      <td>2</td>\n",
              "      <td>2</td>\n",
              "    </tr>\n",
              "    <tr>\n",
              "      <th>...</th>\n",
              "      <td>...</td>\n",
              "      <td>...</td>\n",
              "      <td>...</td>\n",
              "    </tr>\n",
              "    <tr>\n",
              "      <th>150</th>\n",
              "      <td>2</td>\n",
              "      <td>2</td>\n",
              "      <td>1</td>\n",
              "    </tr>\n",
              "    <tr>\n",
              "      <th>151</th>\n",
              "      <td>2</td>\n",
              "      <td>2</td>\n",
              "      <td>2</td>\n",
              "    </tr>\n",
              "    <tr>\n",
              "      <th>152</th>\n",
              "      <td>1</td>\n",
              "      <td>2</td>\n",
              "      <td>1</td>\n",
              "    </tr>\n",
              "    <tr>\n",
              "      <th>153</th>\n",
              "      <td>1</td>\n",
              "      <td>2</td>\n",
              "      <td>2</td>\n",
              "    </tr>\n",
              "    <tr>\n",
              "      <th>154</th>\n",
              "      <td>2</td>\n",
              "      <td>2</td>\n",
              "      <td>2</td>\n",
              "    </tr>\n",
              "  </tbody>\n",
              "</table>\n",
              "<p>155 rows × 3 columns</p>\n",
              "</div>"
            ],
            "text/plain": [
              "    STEROID  ANTIVIRALS MALAISE\n",
              "0         1           2       2\n",
              "1         1           2       2\n",
              "2         2           2       2\n",
              "3         ?           1       2\n",
              "4         2           2       2\n",
              "..      ...         ...     ...\n",
              "150       2           2       1\n",
              "151       2           2       2\n",
              "152       1           2       1\n",
              "153       1           2       2\n",
              "154       2           2       2\n",
              "\n",
              "[155 rows x 3 columns]"
            ]
          },
          "metadata": {
            "tags": []
          },
          "execution_count": 20
        }
      ]
    },
    {
      "cell_type": "code",
      "metadata": {
        "colab": {
          "base_uri": "https://localhost:8080/"
        },
        "id": "oOM3_-__C4kG",
        "outputId": "1a6fdf11-6479-449a-d3d5-0d3616f89660"
      },
      "source": [
        "# cek type data\n",
        "df.dtypes"
      ],
      "execution_count": 23,
      "outputs": [
        {
          "output_type": "execute_result",
          "data": {
            "text/plain": [
              "Class               int64\n",
              "AGE                 int64\n",
              "SEX                 int64\n",
              "STEROID            object\n",
              "ANTIVIRALS          int64\n",
              "FATIGUE            object\n",
              "MALAISE            object\n",
              "ANOREXIA           object\n",
              "LIVER BIG          object\n",
              "LIVER FIRM         object\n",
              "SPLEEN PALPABLE    object\n",
              "SPIDERS            object\n",
              "ASCITES            object\n",
              "VARICES            object\n",
              "BILIRUBIN          object\n",
              "ALK PHOSPHATE      object\n",
              "SGOT               object\n",
              "ALBUMIN            object\n",
              "PROTIME            object\n",
              "HISTOLOGY           int64\n",
              "dtype: object"
            ]
          },
          "metadata": {
            "tags": []
          },
          "execution_count": 23
        }
      ]
    },
    {
      "cell_type": "code",
      "metadata": {
        "colab": {
          "base_uri": "https://localhost:8080/",
          "height": 241
        },
        "id": "_HkWf4TFC7jM",
        "outputId": "34e92839-b49e-498e-f33d-3caca1641b71"
      },
      "source": [
        "# replace missing value \"?\" menjadi NaN\n",
        "import numpy as np\n",
        "df.replace(\"?\", np.nan, inplace = True)\n",
        "df.head()"
      ],
      "execution_count": 24,
      "outputs": [
        {
          "output_type": "execute_result",
          "data": {
            "text/html": [
              "<div>\n",
              "<style scoped>\n",
              "    .dataframe tbody tr th:only-of-type {\n",
              "        vertical-align: middle;\n",
              "    }\n",
              "\n",
              "    .dataframe tbody tr th {\n",
              "        vertical-align: top;\n",
              "    }\n",
              "\n",
              "    .dataframe thead th {\n",
              "        text-align: right;\n",
              "    }\n",
              "</style>\n",
              "<table border=\"1\" class=\"dataframe\">\n",
              "  <thead>\n",
              "    <tr style=\"text-align: right;\">\n",
              "      <th></th>\n",
              "      <th>Class</th>\n",
              "      <th>AGE</th>\n",
              "      <th>SEX</th>\n",
              "      <th>STEROID</th>\n",
              "      <th>ANTIVIRALS</th>\n",
              "      <th>FATIGUE</th>\n",
              "      <th>MALAISE</th>\n",
              "      <th>ANOREXIA</th>\n",
              "      <th>LIVER BIG</th>\n",
              "      <th>LIVER FIRM</th>\n",
              "      <th>SPLEEN PALPABLE</th>\n",
              "      <th>SPIDERS</th>\n",
              "      <th>ASCITES</th>\n",
              "      <th>VARICES</th>\n",
              "      <th>BILIRUBIN</th>\n",
              "      <th>ALK PHOSPHATE</th>\n",
              "      <th>SGOT</th>\n",
              "      <th>ALBUMIN</th>\n",
              "      <th>PROTIME</th>\n",
              "      <th>HISTOLOGY</th>\n",
              "    </tr>\n",
              "  </thead>\n",
              "  <tbody>\n",
              "    <tr>\n",
              "      <th>0</th>\n",
              "      <td>2</td>\n",
              "      <td>30</td>\n",
              "      <td>2</td>\n",
              "      <td>1</td>\n",
              "      <td>2</td>\n",
              "      <td>2</td>\n",
              "      <td>2</td>\n",
              "      <td>2</td>\n",
              "      <td>1</td>\n",
              "      <td>2</td>\n",
              "      <td>2</td>\n",
              "      <td>2</td>\n",
              "      <td>2</td>\n",
              "      <td>2</td>\n",
              "      <td>1.00</td>\n",
              "      <td>85</td>\n",
              "      <td>18</td>\n",
              "      <td>4.0</td>\n",
              "      <td>NaN</td>\n",
              "      <td>1</td>\n",
              "    </tr>\n",
              "    <tr>\n",
              "      <th>1</th>\n",
              "      <td>2</td>\n",
              "      <td>50</td>\n",
              "      <td>1</td>\n",
              "      <td>1</td>\n",
              "      <td>2</td>\n",
              "      <td>1</td>\n",
              "      <td>2</td>\n",
              "      <td>2</td>\n",
              "      <td>1</td>\n",
              "      <td>2</td>\n",
              "      <td>2</td>\n",
              "      <td>2</td>\n",
              "      <td>2</td>\n",
              "      <td>2</td>\n",
              "      <td>0.90</td>\n",
              "      <td>135</td>\n",
              "      <td>42</td>\n",
              "      <td>3.5</td>\n",
              "      <td>NaN</td>\n",
              "      <td>1</td>\n",
              "    </tr>\n",
              "    <tr>\n",
              "      <th>2</th>\n",
              "      <td>2</td>\n",
              "      <td>78</td>\n",
              "      <td>1</td>\n",
              "      <td>2</td>\n",
              "      <td>2</td>\n",
              "      <td>1</td>\n",
              "      <td>2</td>\n",
              "      <td>2</td>\n",
              "      <td>2</td>\n",
              "      <td>2</td>\n",
              "      <td>2</td>\n",
              "      <td>2</td>\n",
              "      <td>2</td>\n",
              "      <td>2</td>\n",
              "      <td>0.70</td>\n",
              "      <td>96</td>\n",
              "      <td>32</td>\n",
              "      <td>4.0</td>\n",
              "      <td>NaN</td>\n",
              "      <td>1</td>\n",
              "    </tr>\n",
              "    <tr>\n",
              "      <th>3</th>\n",
              "      <td>2</td>\n",
              "      <td>31</td>\n",
              "      <td>1</td>\n",
              "      <td>NaN</td>\n",
              "      <td>1</td>\n",
              "      <td>2</td>\n",
              "      <td>2</td>\n",
              "      <td>2</td>\n",
              "      <td>2</td>\n",
              "      <td>2</td>\n",
              "      <td>2</td>\n",
              "      <td>2</td>\n",
              "      <td>2</td>\n",
              "      <td>2</td>\n",
              "      <td>0.70</td>\n",
              "      <td>46</td>\n",
              "      <td>52</td>\n",
              "      <td>4.0</td>\n",
              "      <td>80</td>\n",
              "      <td>1</td>\n",
              "    </tr>\n",
              "    <tr>\n",
              "      <th>4</th>\n",
              "      <td>2</td>\n",
              "      <td>34</td>\n",
              "      <td>1</td>\n",
              "      <td>2</td>\n",
              "      <td>2</td>\n",
              "      <td>2</td>\n",
              "      <td>2</td>\n",
              "      <td>2</td>\n",
              "      <td>2</td>\n",
              "      <td>2</td>\n",
              "      <td>2</td>\n",
              "      <td>2</td>\n",
              "      <td>2</td>\n",
              "      <td>2</td>\n",
              "      <td>1.00</td>\n",
              "      <td>NaN</td>\n",
              "      <td>200</td>\n",
              "      <td>4.0</td>\n",
              "      <td>NaN</td>\n",
              "      <td>1</td>\n",
              "    </tr>\n",
              "  </tbody>\n",
              "</table>\n",
              "</div>"
            ],
            "text/plain": [
              "   Class  AGE  SEX STEROID  ...  SGOT ALBUMIN PROTIME HISTOLOGY\n",
              "0      2   30    2       1  ...    18     4.0     NaN         1\n",
              "1      2   50    1       1  ...    42     3.5     NaN         1\n",
              "2      2   78    1       2  ...    32     4.0     NaN         1\n",
              "3      2   31    1     NaN  ...    52     4.0      80         1\n",
              "4      2   34    1       2  ...   200     4.0     NaN         1\n",
              "\n",
              "[5 rows x 20 columns]"
            ]
          },
          "metadata": {
            "tags": []
          },
          "execution_count": 24
        }
      ]
    },
    {
      "cell_type": "code",
      "metadata": {
        "colab": {
          "base_uri": "https://localhost:8080/",
          "height": 241
        },
        "id": "yLrnmskaDBim",
        "outputId": "2f07499a-fdb2-4df4-b26a-9a3a736f0302"
      },
      "source": [
        "missing_data = df.isnull()\n",
        "missing_data.head()"
      ],
      "execution_count": 25,
      "outputs": [
        {
          "output_type": "execute_result",
          "data": {
            "text/html": [
              "<div>\n",
              "<style scoped>\n",
              "    .dataframe tbody tr th:only-of-type {\n",
              "        vertical-align: middle;\n",
              "    }\n",
              "\n",
              "    .dataframe tbody tr th {\n",
              "        vertical-align: top;\n",
              "    }\n",
              "\n",
              "    .dataframe thead th {\n",
              "        text-align: right;\n",
              "    }\n",
              "</style>\n",
              "<table border=\"1\" class=\"dataframe\">\n",
              "  <thead>\n",
              "    <tr style=\"text-align: right;\">\n",
              "      <th></th>\n",
              "      <th>Class</th>\n",
              "      <th>AGE</th>\n",
              "      <th>SEX</th>\n",
              "      <th>STEROID</th>\n",
              "      <th>ANTIVIRALS</th>\n",
              "      <th>FATIGUE</th>\n",
              "      <th>MALAISE</th>\n",
              "      <th>ANOREXIA</th>\n",
              "      <th>LIVER BIG</th>\n",
              "      <th>LIVER FIRM</th>\n",
              "      <th>SPLEEN PALPABLE</th>\n",
              "      <th>SPIDERS</th>\n",
              "      <th>ASCITES</th>\n",
              "      <th>VARICES</th>\n",
              "      <th>BILIRUBIN</th>\n",
              "      <th>ALK PHOSPHATE</th>\n",
              "      <th>SGOT</th>\n",
              "      <th>ALBUMIN</th>\n",
              "      <th>PROTIME</th>\n",
              "      <th>HISTOLOGY</th>\n",
              "    </tr>\n",
              "  </thead>\n",
              "  <tbody>\n",
              "    <tr>\n",
              "      <th>0</th>\n",
              "      <td>False</td>\n",
              "      <td>False</td>\n",
              "      <td>False</td>\n",
              "      <td>False</td>\n",
              "      <td>False</td>\n",
              "      <td>False</td>\n",
              "      <td>False</td>\n",
              "      <td>False</td>\n",
              "      <td>False</td>\n",
              "      <td>False</td>\n",
              "      <td>False</td>\n",
              "      <td>False</td>\n",
              "      <td>False</td>\n",
              "      <td>False</td>\n",
              "      <td>False</td>\n",
              "      <td>False</td>\n",
              "      <td>False</td>\n",
              "      <td>False</td>\n",
              "      <td>True</td>\n",
              "      <td>False</td>\n",
              "    </tr>\n",
              "    <tr>\n",
              "      <th>1</th>\n",
              "      <td>False</td>\n",
              "      <td>False</td>\n",
              "      <td>False</td>\n",
              "      <td>False</td>\n",
              "      <td>False</td>\n",
              "      <td>False</td>\n",
              "      <td>False</td>\n",
              "      <td>False</td>\n",
              "      <td>False</td>\n",
              "      <td>False</td>\n",
              "      <td>False</td>\n",
              "      <td>False</td>\n",
              "      <td>False</td>\n",
              "      <td>False</td>\n",
              "      <td>False</td>\n",
              "      <td>False</td>\n",
              "      <td>False</td>\n",
              "      <td>False</td>\n",
              "      <td>True</td>\n",
              "      <td>False</td>\n",
              "    </tr>\n",
              "    <tr>\n",
              "      <th>2</th>\n",
              "      <td>False</td>\n",
              "      <td>False</td>\n",
              "      <td>False</td>\n",
              "      <td>False</td>\n",
              "      <td>False</td>\n",
              "      <td>False</td>\n",
              "      <td>False</td>\n",
              "      <td>False</td>\n",
              "      <td>False</td>\n",
              "      <td>False</td>\n",
              "      <td>False</td>\n",
              "      <td>False</td>\n",
              "      <td>False</td>\n",
              "      <td>False</td>\n",
              "      <td>False</td>\n",
              "      <td>False</td>\n",
              "      <td>False</td>\n",
              "      <td>False</td>\n",
              "      <td>True</td>\n",
              "      <td>False</td>\n",
              "    </tr>\n",
              "    <tr>\n",
              "      <th>3</th>\n",
              "      <td>False</td>\n",
              "      <td>False</td>\n",
              "      <td>False</td>\n",
              "      <td>True</td>\n",
              "      <td>False</td>\n",
              "      <td>False</td>\n",
              "      <td>False</td>\n",
              "      <td>False</td>\n",
              "      <td>False</td>\n",
              "      <td>False</td>\n",
              "      <td>False</td>\n",
              "      <td>False</td>\n",
              "      <td>False</td>\n",
              "      <td>False</td>\n",
              "      <td>False</td>\n",
              "      <td>False</td>\n",
              "      <td>False</td>\n",
              "      <td>False</td>\n",
              "      <td>False</td>\n",
              "      <td>False</td>\n",
              "    </tr>\n",
              "    <tr>\n",
              "      <th>4</th>\n",
              "      <td>False</td>\n",
              "      <td>False</td>\n",
              "      <td>False</td>\n",
              "      <td>False</td>\n",
              "      <td>False</td>\n",
              "      <td>False</td>\n",
              "      <td>False</td>\n",
              "      <td>False</td>\n",
              "      <td>False</td>\n",
              "      <td>False</td>\n",
              "      <td>False</td>\n",
              "      <td>False</td>\n",
              "      <td>False</td>\n",
              "      <td>False</td>\n",
              "      <td>False</td>\n",
              "      <td>True</td>\n",
              "      <td>False</td>\n",
              "      <td>False</td>\n",
              "      <td>True</td>\n",
              "      <td>False</td>\n",
              "    </tr>\n",
              "  </tbody>\n",
              "</table>\n",
              "</div>"
            ],
            "text/plain": [
              "   Class    AGE    SEX  STEROID  ...   SGOT  ALBUMIN  PROTIME  HISTOLOGY\n",
              "0  False  False  False    False  ...  False    False     True      False\n",
              "1  False  False  False    False  ...  False    False     True      False\n",
              "2  False  False  False    False  ...  False    False     True      False\n",
              "3  False  False  False     True  ...  False    False    False      False\n",
              "4  False  False  False    False  ...  False    False     True      False\n",
              "\n",
              "[5 rows x 20 columns]"
            ]
          },
          "metadata": {
            "tags": []
          },
          "execution_count": 25
        }
      ]
    },
    {
      "cell_type": "code",
      "metadata": {
        "colab": {
          "base_uri": "https://localhost:8080/"
        },
        "id": "OpFX_nqmDEpT",
        "outputId": "9dafc101-423d-48e2-b28f-8b0b0c97a41c"
      },
      "source": [
        "df.isnull().sum()"
      ],
      "execution_count": 27,
      "outputs": [
        {
          "output_type": "execute_result",
          "data": {
            "text/plain": [
              "Class               0\n",
              "AGE                 0\n",
              "SEX                 0\n",
              "STEROID             1\n",
              "ANTIVIRALS          0\n",
              "FATIGUE             1\n",
              "MALAISE             1\n",
              "ANOREXIA            1\n",
              "LIVER BIG          10\n",
              "LIVER FIRM         11\n",
              "SPLEEN PALPABLE     5\n",
              "SPIDERS             5\n",
              "ASCITES             5\n",
              "VARICES             5\n",
              "BILIRUBIN           6\n",
              "ALK PHOSPHATE      29\n",
              "SGOT                4\n",
              "ALBUMIN            16\n",
              "PROTIME            67\n",
              "HISTOLOGY           0\n",
              "dtype: int64"
            ]
          },
          "metadata": {
            "tags": []
          },
          "execution_count": 27
        }
      ]
    },
    {
      "cell_type": "code",
      "metadata": {
        "id": "ENRhOJKEDIj9"
      },
      "source": [
        "# replace dengan rata-rata\n",
        "avg_bili = df[\"BILIRUBIN\"].astype(\"float\").mean(axis=0)\n",
        "df[\"BILIRUBIN\"].replace(np.nan, avg_bili, inplace=True)\n",
        "avg_alk = df[\"ALK PHOSPHATE\"].astype(\"float\").mean(axis=0)\n",
        "df[\"ALK PHOSPHATE\"].replace(np.nan, avg_alk, inplace=True)\n",
        "avg_sgot = df[\"SGOT\"].astype(\"float\").mean(axis=0)\n",
        "df[\"SGOT\"].replace(np.nan, avg_sgot, inplace=True)\n",
        "avg_albu = df[\"ALBUMIN\"].astype(\"float\").mean(axis=0)\n",
        "df[\"ALBUMIN\"].replace(np.nan, avg_albu, inplace=True)\n",
        "avg_protime = df[\"PROTIME\"].astype(\"float\").mean(axis=0)\n",
        "df[\"PROTIME\"].replace(np.nan,avg_protime,inplace = True)"
      ],
      "execution_count": 28,
      "outputs": []
    },
    {
      "cell_type": "code",
      "metadata": {
        "id": "P8yZbqEYDNMO"
      },
      "source": [
        "# replace dengan frekuensi terbanyak\n",
        "VAL_STEROID = df[\"STEROID\"].value_counts().idxmax()\n",
        "df[\"STEROID\"].replace(np.nan,VAL_STEROID,inplace = True)\n",
        "VAL_FATI = df['FATIGUE'].value_counts().idxmax()\n",
        "df[\"FATIGUE\"].replace(np.nan, VAL_FATI, inplace=True)\n",
        "VAL_MAL=df['MALAISE'].value_counts().idxmax()\n",
        "df[\"MALAISE\"].replace(np.nan, VAL_MAL, inplace=True)\n",
        "VAL_ANO=df['ANOREXIA'].value_counts().idxmax()\n",
        "df[\"ANOREXIA\"].replace(np.nan, VAL_ANO, inplace=True)\n",
        "VAL_LIVB=df['LIVER BIG'].value_counts().idxmax()\n",
        "df[\"LIVER BIG\"].replace(np.nan, VAL_LIVB, inplace=True)\n",
        "VAL_LIVF=df['LIVER FIRM'].value_counts().idxmax()\n",
        "df[\"LIVER FIRM\"].replace(np.nan, VAL_LIVF, inplace=True)\n",
        "VAL_SA=df['SPLEEN PALPABLE'].value_counts().idxmax()\n",
        "df[\"SPLEEN PALPABLE\"].replace(np.nan, VAL_SA, inplace=True)\n",
        "VAL_SP=df['SPIDERS'].value_counts().idxmax()\n",
        "df[\"SPIDERS\"].replace(np.nan, VAL_SP, inplace=True)\n",
        "VAL_ASC=df['ASCITES'].value_counts().idxmax()\n",
        "df[\"ASCITES\"].replace(np.nan, VAL_ASC, inplace=True)\n",
        "VAL_VARI=df['VARICES'].value_counts().idxmax()\n",
        "df[\"VARICES\"].replace(np.nan, VAL_VARI, inplace=True)"
      ],
      "execution_count": 29,
      "outputs": []
    },
    {
      "cell_type": "code",
      "metadata": {
        "colab": {
          "base_uri": "https://localhost:8080/"
        },
        "id": "D-z5JjtFDU3t",
        "outputId": "98b5f6c9-8e04-44ac-8b4c-9079a49a8571"
      },
      "source": [
        "# setelah menangai missing value, cek apakah masih ada missing value\n",
        "df.isnull().sum()"
      ],
      "execution_count": 30,
      "outputs": [
        {
          "output_type": "execute_result",
          "data": {
            "text/plain": [
              "Class              0\n",
              "AGE                0\n",
              "SEX                0\n",
              "STEROID            0\n",
              "ANTIVIRALS         0\n",
              "FATIGUE            0\n",
              "MALAISE            0\n",
              "ANOREXIA           0\n",
              "LIVER BIG          0\n",
              "LIVER FIRM         0\n",
              "SPLEEN PALPABLE    0\n",
              "SPIDERS            0\n",
              "ASCITES            0\n",
              "VARICES            0\n",
              "BILIRUBIN          0\n",
              "ALK PHOSPHATE      0\n",
              "SGOT               0\n",
              "ALBUMIN            0\n",
              "PROTIME            0\n",
              "HISTOLOGY          0\n",
              "dtype: int64"
            ]
          },
          "metadata": {
            "tags": []
          },
          "execution_count": 30
        }
      ]
    },
    {
      "cell_type": "code",
      "metadata": {
        "colab": {
          "base_uri": "https://localhost:8080/"
        },
        "id": "ae3yl_WwDY7L",
        "outputId": "dec66e2a-514c-4807-bda9-0dddf86321bf"
      },
      "source": [
        "# cek type data\n",
        "df.dtypes"
      ],
      "execution_count": 31,
      "outputs": [
        {
          "output_type": "execute_result",
          "data": {
            "text/plain": [
              "Class               int64\n",
              "AGE                 int64\n",
              "SEX                 int64\n",
              "STEROID            object\n",
              "ANTIVIRALS          int64\n",
              "FATIGUE            object\n",
              "MALAISE            object\n",
              "ANOREXIA           object\n",
              "LIVER BIG          object\n",
              "LIVER FIRM         object\n",
              "SPLEEN PALPABLE    object\n",
              "SPIDERS            object\n",
              "ASCITES            object\n",
              "VARICES            object\n",
              "BILIRUBIN          object\n",
              "ALK PHOSPHATE      object\n",
              "SGOT               object\n",
              "ALBUMIN            object\n",
              "PROTIME            object\n",
              "HISTOLOGY           int64\n",
              "dtype: object"
            ]
          },
          "metadata": {
            "tags": []
          },
          "execution_count": 31
        }
      ]
    },
    {
      "cell_type": "code",
      "metadata": {
        "colab": {
          "base_uri": "https://localhost:8080/"
        },
        "id": "blQTU4GeDbiI",
        "outputId": "48b7f499-cdcc-4f0c-fd9e-e4817fda7820"
      },
      "source": [
        "# memperbaiki format type data\n",
        "df[[\"BILIRUBIN\", \"ALK PHOSPHATE\", \"SGOT\", \"ALBUMIN\", \"PROTIME\"]] = df[[\"BILIRUBIN\", \"ALK PHOSPHATE\", \"SGOT\", \"ALBUMIN\", \"PROTIME\"]].astype(\"float\")\n",
        "df[['STEROID', 'FATIGUE', 'MALAISE', 'ANOREXIA', 'LIVER BIG', 'LIVER FIRM', 'SPLEEN PALPABLE', 'SPIDERS', 'ASCITES', 'VARICES']] = df[['STEROID', 'FATIGUE', 'MALAISE', 'ANOREXIA', 'LIVER BIG', 'LIVER FIRM', 'SPLEEN PALPABLE', 'SPIDERS', 'ASCITES', 'VARICES']].astype (\"int\")\n",
        "df.dtypes"
      ],
      "execution_count": 32,
      "outputs": [
        {
          "output_type": "execute_result",
          "data": {
            "text/plain": [
              "Class                int64\n",
              "AGE                  int64\n",
              "SEX                  int64\n",
              "STEROID              int64\n",
              "ANTIVIRALS           int64\n",
              "FATIGUE              int64\n",
              "MALAISE              int64\n",
              "ANOREXIA             int64\n",
              "LIVER BIG            int64\n",
              "LIVER FIRM           int64\n",
              "SPLEEN PALPABLE      int64\n",
              "SPIDERS              int64\n",
              "ASCITES              int64\n",
              "VARICES              int64\n",
              "BILIRUBIN          float64\n",
              "ALK PHOSPHATE      float64\n",
              "SGOT               float64\n",
              "ALBUMIN            float64\n",
              "PROTIME            float64\n",
              "HISTOLOGY            int64\n",
              "dtype: object"
            ]
          },
          "metadata": {
            "tags": []
          },
          "execution_count": 32
        }
      ]
    },
    {
      "cell_type": "code",
      "metadata": {
        "id": "GnaKuFR0DkDY"
      },
      "source": [
        "# normalisasi\n",
        "df['AGE'] = (df['AGE']-df['AGE'].min())/(df['AGE'].max()-df['AGE'].min())*(0.9-0.1)+0.1\n",
        "df['BILIRUBIN'] = (df['BILIRUBIN']-df['BILIRUBIN'].min())/(df['BILIRUBIN'].max()-df['BILIRUBIN'].min())*(0.9-0.1)+0.1\n",
        "df['ALK PHOSPHATE'] = (df['ALK PHOSPHATE']-df['ALK PHOSPHATE'].min())/(df['ALK PHOSPHATE'].max()-df['ALK PHOSPHATE'].min())*(0.9-0.1)+0.1\n",
        "df['SGOT'] = (df['SGOT']-df['SGOT'].min())/(df['SGOT'].max()-df['SGOT'].min())*(0.9-0.1)+0.1\n",
        "df['ALBUMIN'] = (df['ALBUMIN']-df['ALBUMIN'].min())/(df['ALBUMIN'].max()-df['ALBUMIN'].min())*(0.9-0.1)+0.1\n",
        "df['PROTIME'] = (df['PROTIME']-df['PROTIME'].min())/(df['PROTIME'].max()-df['PROTIME'].min())*(0.9-0.1)+0.1"
      ],
      "execution_count": 33,
      "outputs": []
    },
    {
      "cell_type": "code",
      "metadata": {
        "colab": {
          "base_uri": "https://localhost:8080/"
        },
        "id": "UlD_ubJADnWt",
        "outputId": "a8833e84-61d9-454d-ffc4-7dd285841c2c"
      },
      "source": [
        "# rata-rata sgot\n",
        "df[\"SGOT\"].mean(axis=0)"
      ],
      "execution_count": 34,
      "outputs": [
        {
          "output_type": "execute_result",
          "data": {
            "text/plain": [
              "0.19071803121148176"
            ]
          },
          "metadata": {
            "tags": []
          },
          "execution_count": 34
        }
      ]
    },
    {
      "cell_type": "code",
      "metadata": {
        "colab": {
          "base_uri": "https://localhost:8080/"
        },
        "id": "MijHzUECD3cS",
        "outputId": "27155a6c-b5f9-47c1-86e5-1bd3600b0de0"
      },
      "source": [
        "from sklearn.naive_bayes import MultinomialNB\n",
        "model = MultinomialNB()\n",
        "model.fit(df[['SEX', 'FATIGUE', 'SPIDERS', 'ANOREXIA', 'LIVER BIG']], df['Class'])\n",
        "predicted = model.predict([[2,2,2,1,1]])\n",
        "print (\"\\nPredicted Value:\", predicted)\n",
        "probabilitas = model.predict_proba([[2,2,2,1,1]])\n",
        "print(\"Probabilitas:\", probabilitas)"
      ],
      "execution_count": 35,
      "outputs": [
        {
          "output_type": "stream",
          "text": [
            "\n",
            "Predicted Value: [2]\n",
            "Probabilitas: [[0.15276581 0.84723419]]\n"
          ],
          "name": "stdout"
        }
      ]
    },
    {
      "cell_type": "code",
      "metadata": {
        "colab": {
          "base_uri": "https://localhost:8080/"
        },
        "id": "VAgIbcerFSWm",
        "outputId": "2675e74c-0a08-4458-92df-dc2f01d73a66"
      },
      "source": [
        "from sklearn.neighbors import KNeighborsClassifier\n",
        "neigh = KNeighborsClassifier(n_neighbors=7)\n",
        "neigh.fit(df[['SEX', 'FATIGUE', 'SPIDERS', 'ANOREXIA', 'LIVER BIG']], df['Class'])\n",
        "print(\"\\nHasil prediksi [2,2,2,1,1] :\",neigh.predict([[2,2,2,1,1]]))"
      ],
      "execution_count": 38,
      "outputs": [
        {
          "output_type": "stream",
          "text": [
            "\n",
            "Hasil prediksi [2,2,2,1,1] : [2]\n"
          ],
          "name": "stdout"
        }
      ]
    }
  ]
}